{
 "cells": [
  {
   "cell_type": "code",
   "execution_count": 1,
   "id": "4274bbae-0a87-439e-9fa1-e1855a04500d",
   "metadata": {},
   "outputs": [],
   "source": [
    "import requests\n",
    "from bs4 import BeautifulSoup\n",
    "import pandas as pd\n",
    "import time\n",
    "from fake_useragent import UserAgent\n",
    "from selenium import webdriver\n",
    "from selenium.webdriver.chrome.options import Options\n",
    "from selenium.webdriver.common.by import By\n",
    "import undetected_chromedriver as uc\n",
    "from selenium.webdriver.support.ui import WebDriverWait\n",
    "from selenium.webdriver.support import expected_conditions as EC\n",
    "from selenium.common.exceptions import TimeoutException\n",
    "import random\n",
    "import math\n",
    "from datetime import datetime\n",
    "import os\n",
    "import pandas as pd\n",
    "from openpyxl import Workbook\n",
    "from openpyxl.styles import Font"
   ]
  },
  {
   "cell_type": "code",
   "execution_count": 2,
   "id": "cee7fbec-48d6-459b-a115-3f5c42b9c8d4",
   "metadata": {},
   "outputs": [],
   "source": [
    "def build_indeed_url(query=\"data analyst\", location=\"Bengaluru\", days=3, job_type=\"fulltime\", sort=\"date\", page=0):\n",
    "    start = page * 10\n",
    "    base_url = \"https://in.indeed.com/jobs\"\n",
    "    url = (\n",
    "        f\"{base_url}?q={query.replace(' ', '+')}\"\n",
    "        f\"&l={location.replace(' ', '+')}\"\n",
    "        f\"&fromage={days}\"\n",
    "        f\"&jt={job_type}\"\n",
    "        f\"&sort={sort}\"\n",
    "        f\"&start={start}\"\n",
    "    )\n",
    "    return url\n",
    "\n",
    "def get_total_pages_from_meta(driver, jobs_per_page):\n",
    "    import math\n",
    "    try:\n",
    "        meta = driver.find_element(By.XPATH, \"//meta[@name='description']\")\n",
    "        content = meta.get_attribute(\"content\")  # e.g., \"90 Data Analyst jobs available...\"\n",
    "\n",
    "        job_count = int(''.join(filter(str.isdigit, content.split()[0])))  # Extract \"90\"\n",
    "        total_pages = math.ceil(job_count / jobs_per_page)\n",
    "        print(f\"📊 Found {job_count} jobs → Scrape {total_pages} pages\")\n",
    "        return total_pages\n",
    "\n",
    "    except Exception as e:\n",
    "        print(f\"⚠️ Could not extract job count from meta tag. Defaulting to 1 page. Error: {e}\")\n",
    "        return 1\n",
    "        \n",
    "def get_indeed_jobs_reliable(query=\"data analyst\", location=\"Bengaluru\"):\n",
    "    options = uc.ChromeOptions()\n",
    "    options.add_argument(\"--start-maximized\")\n",
    "    driver = uc.Chrome(options=options)\n",
    "    wait = WebDriverWait(driver, 10)\n",
    "    jobs = []\n",
    "\n",
    "    driver.get(build_indeed_url(query, location, days=3, job_type=\"fulltime\", sort=\"date\", page=0))\n",
    "    time.sleep(10)\n",
    "    pages = get_total_pages_from_meta(driver,15)\n",
    "    # pages = 1 #debug\n",
    "    for page in range(pages):\n",
    "        url = build_indeed_url(query, location, days=3, job_type=\"fulltime\", sort=\"date\", page=page)\n",
    "        print(f\"🔄 Page {page + 1}: {url}\")\n",
    "        driver.get(url)\n",
    "        time.sleep(5)  # Give time to load new page\n",
    "        \n",
    "        # ✅ REFRESH job_cards for this page\n",
    "        job_cards = driver.find_elements(By.CLASS_NAME, \"tapItem\")\n",
    "    \n",
    "        for index, card in enumerate(job_cards):\n",
    "            try:\n",
    "                # Scroll each card into view again\n",
    "                driver.execute_script(\"arguments[0].scrollIntoView(true);\", card)\n",
    "                card.click()\n",
    "                time.sleep(2)\n",
    "    \n",
    "                wait.until(EC.presence_of_element_located((By.ID, \"jobDescriptionText\")))\n",
    "                description = driver.find_element(By.ID, \"jobDescriptionText\").text.strip()\n",
    "    \n",
    "                try:\n",
    "                    title = card.find_element(By.XPATH, \".//h2[contains(@class,'jobTitle')]\").text.strip()\n",
    "                except:\n",
    "                    title = \"N/A\"\n",
    "    \n",
    "                try:\n",
    "                    company = driver.find_element(By.XPATH, \"//div[@id='jobDescriptionText']/preceding::a[1]\").text.strip()\n",
    "                except:\n",
    "                    company = \"N/A\"\n",
    "                try:\n",
    "                    job_link = card.find_element(By.XPATH, \".//a[@data-jk]\")\n",
    "                    job_key = job_link.get_attribute(\"data-jk\")\n",
    "                    job_url = f\"https://in.indeed.com/viewjob?jk={job_key}\"\n",
    "                except Exception as e:\n",
    "                    job_url = \"N/A\"\n",
    "                    print(f\"❌ Could not extract job key: {e}\")\n",
    "                \n",
    "                jobs.append({\n",
    "                    \"title\": title,\n",
    "                    \"company\": company,\n",
    "                    \"description\": description,\n",
    "                    \"Link\":job_url\n",
    "                })\n",
    "    \n",
    "            except Exception as e:\n",
    "                print(f\"❌ Error on card {index + 1} (Page {page + 1}): {e}\")\n",
    "                continue\n",
    "    \n",
    "        time.sleep(random.uniform(3, 5))  # ✅ Slow down between pages\n",
    "\n",
    " \n",
    "    return pd.DataFrame(jobs)"
   ]
  },
  {
   "cell_type": "code",
   "execution_count": 3,
   "id": "3d4c1f49-b230-432d-b914-510aafc73aba",
   "metadata": {},
   "outputs": [
    {
     "name": "stdout",
     "output_type": "stream",
     "text": [
      "📊 Found 68 jobs → Scrape 5 pages\n",
      "🔄 Page 1: https://in.indeed.com/jobs?q=data+analyst&l=Bengaluru&fromage=3&jt=fulltime&sort=date&start=0\n",
      "🔄 Page 2: https://in.indeed.com/jobs?q=data+analyst&l=Bengaluru&fromage=3&jt=fulltime&sort=date&start=10\n",
      "🔄 Page 3: https://in.indeed.com/jobs?q=data+analyst&l=Bengaluru&fromage=3&jt=fulltime&sort=date&start=20\n",
      "🔄 Page 4: https://in.indeed.com/jobs?q=data+analyst&l=Bengaluru&fromage=3&jt=fulltime&sort=date&start=30\n",
      "🔄 Page 5: https://in.indeed.com/jobs?q=data+analyst&l=Bengaluru&fromage=3&jt=fulltime&sort=date&start=40\n"
     ]
    }
   ],
   "source": [
    "df = get_indeed_jobs_reliable(\"data analyst\", \"Bengaluru\")"
   ]
  },
  {
   "cell_type": "code",
   "execution_count": 6,
   "id": "1880291c-827e-47b9-9fbf-9a4d5b6b1409",
   "metadata": {},
   "outputs": [
    {
     "name": "stdout",
     "output_type": "stream",
     "text": [
      "✅ File saved\n"
     ]
    }
   ],
   "source": [
    "# Create a new workbook and worksheet\n",
    "wb = Workbook()\n",
    "ws = wb.active\n",
    "ws.title = \"Jobs\"\n",
    "\n",
    "# Write headers\n",
    "ws.append(df.columns.tolist())\n",
    "\n",
    "# Write job data row-by-row\n",
    "for row in df.itertuples(index=False):\n",
    "    ws.append(list(row))\n",
    "\n",
    "# Convert 'apply_link' column to clickable \"Apply\" text\n",
    "link_col = df.columns.get_loc(\"Link\") + 1  # Excel columns are 1-based\n",
    "\n",
    "for row in ws.iter_rows(min_row=2, min_col=link_col, max_col=link_col):\n",
    "    for cell in row:\n",
    "        cell.hyperlink = cell.value  # set hyperlink target\n",
    "        cell.value = cell.value        # display text\n",
    "        cell.font = Font(color=\"0000FF\", underline=\"single\")\n",
    "\n",
    "# Save the Excel file\n",
    "wb.save(filename = f\"indeed_jobs_{datetime.now().strftime('%Y-%m-%d_%H-%M')}.xlsx\")\n",
    "print(\"✅ File saved\")"
   ]
  },
  {
   "cell_type": "code",
   "execution_count": 5,
   "id": "50ccb5bb-b782-45c2-92ae-055c6854f462",
   "metadata": {},
   "outputs": [
    {
     "data": {
      "text/plain": [
       "'C:\\\\Users\\\\DELL'"
      ]
     },
     "execution_count": 5,
     "metadata": {},
     "output_type": "execute_result"
    }
   ],
   "source": [
    "os.getcwd()"
   ]
  },
  {
   "cell_type": "code",
   "execution_count": null,
   "id": "191fa8b0-b068-4f87-b67a-889e3d3927a0",
   "metadata": {},
   "outputs": [],
   "source": []
  }
 ],
 "metadata": {
  "kernelspec": {
   "display_name": "Python [conda env:base] *",
   "language": "python",
   "name": "conda-base-py"
  },
  "language_info": {
   "codemirror_mode": {
    "name": "ipython",
    "version": 3
   },
   "file_extension": ".py",
   "mimetype": "text/x-python",
   "name": "python",
   "nbconvert_exporter": "python",
   "pygments_lexer": "ipython3",
   "version": "3.12.7"
  }
 },
 "nbformat": 4,
 "nbformat_minor": 5
}
